{
 "cells": [
  {
   "cell_type": "markdown",
   "metadata": {},
   "source": [
    "# Lab 7\n",
    "* calculate NPV. The rate is a float and the cash flows and investment are in a list.\n",
    "* create a function called NPV to calculate NPV\n",
    "* create a function to calcule IRR. In order to calculate IRR you may aproximate the follwoing expression:\n",
    "rate= rate*(1-NPV(CFList, rate)/invest)\n",
    "* create a function for payback period"
   ]
  },
  {
   "cell_type": "code",
   "execution_count": 65,
   "metadata": {
    "pycharm": {
     "is_executing": false
    }
   },
   "outputs": [],
   "source": [
    "#Supose you have the follwoing cashflow\n",
    "CFList=[-1000, 200, 200, 300, 500]\n",
    "rate= 0.04\n",
    "NPV = 0\n",
    "\n"
   ]
  },
  {
   "cell_type": "code",
   "execution_count": 66,
   "metadata": {
    "pycharm": {
     "is_executing": false
    }
   },
   "outputs": [],
   "source": [
    "#calcule the NPV sugestion: iterate both by index and value using enumerate\n",
    " \n",
    "for t, cf in enumerate(CFList):\n",
    "    NPV = NPV + cf/((1+rate)**t)"
   ]
  },
  {
   "cell_type": "code",
   "execution_count": 67,
   "metadata": {
    "pycharm": {
     "is_executing": false
    }
   },
   "outputs": [
    {
     "name": "stdout",
     "text": [
      "71.3199380273798\n"
     ],
     "output_type": "stream"
    }
   ],
   "source": [
    "print(NPV)"
   ]
  },
  {
   "cell_type": "code",
   "execution_count": 68,
   "metadata": {
    "pycharm": {
     "is_executing": false
    }
   },
   "outputs": [],
   "source": [
    "#create a function called NPV that returns the NPV value\n",
    "\n",
    "def npv(cashflows, discountRate):\n",
    "    pv = 0\n",
    "    for t, cf in enumerate(cashflows):\n",
    "        pv +=   cf/((1 + discountRate)**t)\n",
    "    return (pv)"
   ]
  },
  {
   "cell_type": "code",
   "execution_count": 69,
   "metadata": {
    "pycharm": {
     "is_executing": false
    }
   },
   "outputs": [
    {
     "name": "stdout",
     "text": [
      "71.3199380273798\n"
     ],
     "output_type": "stream"
    }
   ],
   "source": [
    "print(npv(CFList, rate))"
   ]
  },
  {
   "cell_type": "code",
   "execution_count": 70,
   "metadata": {
    "pycharm": {
     "is_executing": false
    }
   },
   "outputs": [],
   "source": [
    "\n",
    "def irr(CFList):\n",
    "    rate = 1\n",
    "    invest = CFList[0]\n",
    "    for i in range(0,100):\n",
    "     rate = rate*(1-npv(CFList,rate)/invest)\n",
    "    return rate\n"
   ]
  },
  {
   "cell_type": "code",
   "execution_count": 71,
   "metadata": {
    "pycharm": {
     "is_executing": false
    }
   },
   "outputs": [
    {
     "name": "stdout",
     "text": [
      "0.06542842829431562\n"
     ],
     "output_type": "stream"
    }
   ],
   "source": [
    "print(irr(CFList))"
   ]
  },
  {
   "cell_type": "code",
   "execution_count": 72,
   "metadata": {
    "pycharm": {
     "is_executing": false
    }
   },
   "outputs": [],
   "source": [
    "#pay back period\n",
    "\n",
    "    \n"
   ]
  },
  {
   "cell_type": "code",
   "execution_count": 72,
   "metadata": {
    "pycharm": {
     "is_executing": false
    }
   },
   "outputs": [],
   "source": []
  }
 ],
 "metadata": {
  "kernelspec": {
   "display_name": "Python 3",
   "language": "python",
   "name": "python3"
  },
  "language_info": {
   "codemirror_mode": {
    "name": "ipython",
    "version": 3
   },
   "file_extension": ".py",
   "mimetype": "text/x-python",
   "name": "python",
   "nbconvert_exporter": "python",
   "pygments_lexer": "ipython3",
   "version": "3.7.0"
  },
  "pycharm": {
   "stem_cell": {
    "cell_type": "raw",
    "source": [],
    "metadata": {
     "collapsed": false
    }
   }
  }
 },
 "nbformat": 4,
 "nbformat_minor": 2
}