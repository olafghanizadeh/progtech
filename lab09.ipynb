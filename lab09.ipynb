{
 "cells": [
  {
   "cell_type": "markdown",
   "metadata": {},
   "source": [
    "# lab 9\n",
    "\n",
    "Suppose you have the follwoing payoff matriz of a prisoner's dilemna\n",
    "$$\\begin{bmatrix} (2,2) & (0,3) \\\\ (3,0) & (1,1)  \\end{bmatrix}$$\n",
    "\n",
    "Player 0 may play 0 or 1 and player 1 may play 0 or 1. 0 is cooperate (our peace), 1 is not cooperate (war).\n"
   ]
  },
  {
   "cell_type": "markdown",
   "metadata": {},
   "source": [
    "**1.** Create a function that receives results from each one of the player and gives as results a tuple with the results."
   ]
  },
  {
   "cell_type": "code",
   "execution_count": 87,
   "metadata": {
    "pycharm": {
     "is_executing": false
    }
   },
   "outputs": [
    {
     "data": {
      "text/plain": "(2, 2)"
     },
     "metadata": {},
     "output_type": "execute_result",
     "execution_count": 87
    }
   ],
   "source": [
    "GAME = [\n",
    "    [[2,2],[0,3]],\n",
    "    [[3,0],[1,1]]\n",
    "]\n",
    "\n",
    "\n",
    "def round(p0, p1):\n",
    "    result = 0\n",
    "    result = GAME[p0][p1]\n",
    "    return(tuple(result))\n",
    "\n",
    "round(0,0)\n",
    "\n",
    "    "
   ]
  },
  {
   "cell_type": "markdown",
   "metadata": {},
   "source": [
    "**2.** Player 0 is the user that chooses between 0 a 1. Player 1 is a computer. Result is randomly generated.  "
   ]
  },
  {
   "cell_type": "code",
   "execution_count": 88,
   "metadata": {
    "pycharm": {
     "is_executing": false
    }
   },
   "outputs": [
    {
     "data": {
      "text/plain": "(2, 2)"
     },
     "metadata": {},
     "output_type": "execute_result",
     "execution_count": 88
    }
   ],
   "source": [
    "import random as rnd\n",
    "\n",
    "\n",
    "def round(p0):\n",
    "    result = 0\n",
    "    p1 = rnd.randint(0,1)\n",
    "    result = GAME[p0][p1]\n",
    "    return tuple(result)\n",
    "\n",
    "round(0)"
   ]
  },
  {
   "cell_type": "markdown",
   "metadata": {},
   "source": [
    "**3.** Calculate the accumulated value resulting from an iterative game (10 iterations)"
   ]
  },
  {
   "cell_type": "code",
   "execution_count": 89,
   "metadata": {
    "pycharm": {
     "is_executing": false
    }
   },
   "outputs": [
    {
     "data": {
      "text/plain": "[1, 1]"
     },
     "metadata": {},
     "output_type": "execute_result",
     "execution_count": 89
    }
   ],
   "source": [
    "\n",
    "def game(p0, rounds):\n",
    "    result = 0\n",
    "    total = 0\n",
    "    p1 = rnd.randint(0,1)\n",
    "    p0_result = []\n",
    "    for i in range(0,rounds):\n",
    "        total = GAME[p0][p1]\n",
    "    return p0_result\n",
    "\n",
    "game(1,10)\n",
    "\n"
   ]
  },
  {
   "cell_type": "code",
   "execution_count": 89,
   "metadata": {
    "pycharm": {
     "is_executing": false
    }
   },
   "outputs": [],
   "source": []
  }
 ],
 "metadata": {
  "kernelspec": {
   "display_name": "Python 3",
   "language": "python",
   "name": "python3"
  },
  "language_info": {
   "codemirror_mode": {
    "name": "ipython",
    "version": 3
   },
   "file_extension": ".py",
   "mimetype": "text/x-python",
   "name": "python",
   "nbconvert_exporter": "python",
   "pygments_lexer": "ipython3",
   "version": "3.7.0"
  },
  "pycharm": {
   "stem_cell": {
    "cell_type": "raw",
    "source": [],
    "metadata": {
     "collapsed": false
    }
   }
  }
 },
 "nbformat": 4,
 "nbformat_minor": 2
}