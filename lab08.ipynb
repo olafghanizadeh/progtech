{
 "cells": [
  {
   "cell_type": "markdown",
   "metadata": {},
   "source": [
    "# Lab 8 \n",
    "\n",
    "A simple chatbot\n",
    "\n",
    "**1.** Create a function that asks the user his name and says Hello, John Doe\n",
    "\n",
    "**2.** Create a function called chat that ask the user what is his problem and will answer \"yes of course\"\n",
    "\n",
    "**3.** Create a function called chat that ask the user what is his problem and will answer randomly among 6 possible answers\n",
    "\n",
    "**4.** Put all together and improve\n",
    "\n"
   ]
  },
  {
   "cell_type": "markdown",
   "metadata": {},
   "source": [
    "**1.** Create a function that ask the user his name and says Hello, John Doe"
   ]
  },
  {
   "cell_type": "code",
   "execution_count": null,
   "metadata": {
    "pycharm": {
     "is_executing": true
    }
   },
   "outputs": [],
   "source": [
    "# Create a function that ask the user his name and says Hello, John Doe\n",
    "def chat(question, answer):\n",
    "    msg = \"\"\n",
    "    while msg != 'help':\n",
    "        msg = input(question)\n",
    "    return str(answer) + \" \" + str(msg)\n",
    "chat(\"What is your name?\", \"Nice to meet you,\")\n",
    "    "
   ]
  },
  {
   "cell_type": "markdown",
   "metadata": {},
   "source": [
    "**2.** Create a function called chat that ask the user what is his problem and will answer \"yes of course\""
   ]
  },
  {
   "cell_type": "code",
   "execution_count": null,
   "metadata": {
    "pycharm": {
     "is_executing": true
    }
   },
   "outputs": [],
   "source": [
    "# Create a function called chat that ask the user what is his problem and will answer \"yes of course\"\n",
    "\n",
    "\n",
    "def chat(question, answer):\n",
    "    msg = \"\"\n",
    "    while msg != 'help':\n",
    "        msg = input(question)\n",
    "    return str(answer)\n",
    "chat(\"How can I Help you?\", \"Yes of course\")"
   ]
  },
  {
   "cell_type": "markdown",
   "metadata": {},
   "source": [
    "**3.** Create a function called chat that ask the user what is his problem and will answer randomly among 6 possible answers"
   ]
  },
  {
   "cell_type": "code",
   "execution_count": 2,
   "metadata": {
    "pycharm": {
     "is_executing": false
    }
   },
   "outputs": [
    {
     "name": "stdout",
     "text": [
      "Sorry I could not help\n"
     ],
     "output_type": "stream"
    },
    {
     "data": {
      "text/plain": "'No Problem!'"
     },
     "metadata": {},
     "output_type": "execute_result",
     "execution_count": 2
    }
   ],
   "source": [
    "# Create a function called chat that ask the user what is his problem and will answer randomly among 6 possible answers\n",
    "\n",
    "\n",
    "ANSWERS = [\"Okay\", \"I'll see what I can do\", \"Yes of course\", \"No Problem!\", \"My Pleasure\"]\n",
    "\n",
    "def chat(question):\n",
    "    import random as rnd\n",
    "    msg = \"\"\n",
    "    answer =  rnd.choice(ANSWERS)\n",
    "    while msg != 'help':\n",
    "        msg = input(question)\n",
    "    else:\n",
    "        print(\"Sorry I could not help\")\n",
    "    return str(answer)\n",
    "chat(\"How can I Help you?\")"
   ]
  },
  {
   "cell_type": "markdown",
   "metadata": {},
   "source": [
    "**4.** Put all together and improve"
   ]
  },
  {
   "cell_type": "code",
   "execution_count": null,
   "metadata": {
    "pycharm": {
     "is_executing": true
    }
   },
   "outputs": [],
   "source": [
    "GREETINGS = [\"Hello\", \"Olá\", \"Bom Dia\", \"Hej\"]\n",
    "QUESTIONS = [\"What is your name?\", \"How can I help you?\", \"\"]\n",
    "\n"
   ]
  },
  {
   "cell_type": "code",
   "execution_count": null,
   "metadata": {
    "pycharm": {
     "is_executing": true
    }
   },
   "outputs": [],
   "source": []
  }
 ],
 "metadata": {
  "kernelspec": {
   "display_name": "Python 3",
   "language": "python",
   "name": "python3"
  },
  "language_info": {
   "codemirror_mode": {
    "name": "ipython",
    "version": 3
   },
   "file_extension": ".py",
   "mimetype": "text/x-python",
   "name": "python",
   "nbconvert_exporter": "python",
   "pygments_lexer": "ipython3",
   "version": "3.7.0"
  },
  "pycharm": {
   "stem_cell": {
    "cell_type": "raw",
    "source": [],
    "metadata": {
     "collapsed": false
    }
   }
  }
 },
 "nbformat": 4,
 "nbformat_minor": 2
}