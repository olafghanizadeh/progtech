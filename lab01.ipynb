{
 "cells": [
  {
   "cell_type": "markdown",
   "metadata": {},
   "source": [
    "# Lab 1\n",
    "(Prof. Carlos J. Costa)"
   ]
  },
  {
   "cell_type": "markdown",
   "metadata": {},
   "source": [
    "**1)**  Verify if  a value is integer"
   ]
  },
  {
   "cell_type": "code",
   "execution_count": 422,
   "metadata": {
    "pycharm": {
     "is_executing": false
    }
   },
   "outputs": [
    {
     "name": "stdout",
     "text": [
      "Value is an integer\n"
     ],
     "output_type": "stream"
    }
   ],
   "source": [
    "#Code here\n",
    "\n",
    "value = 5\n",
    "\n",
    "if value == int(value):\n",
    "    print(\"Value is an integer\")\n",
    "else:\n",
    "    print(\"Value is NOT an integer\")"
   ]
  },
  {
   "cell_type": "markdown",
   "metadata": {},
   "source": [
    "**2)** Verify if a value is even"
   ]
  },
  {
   "cell_type": "code",
   "execution_count": 423,
   "metadata": {
    "pycharm": {
     "is_executing": false
    }
   },
   "outputs": [
    {
     "name": "stdout",
     "text": [
      "The number is odd\n"
     ],
     "output_type": "stream"
    }
   ],
   "source": [
    "#Code here\n",
    "numValue = 3\n",
    "\n",
    "if numValue%2 == 0:\n",
    "    print(\"The number is even\")\n",
    "else:\n",
    "    print(\"The number is odd\")"
   ]
  },
  {
   "cell_type": "markdown",
   "metadata": {},
   "source": [
    "**3)** Insert two numbers. Is the first is bigger than the second?"
   ]
  },
  {
   "cell_type": "code",
   "execution_count": 424,
   "metadata": {
    "pycharm": {
     "is_executing": false
    }
   },
   "outputs": [
    {
     "name": "stdout",
     "text": [
      "a is not bigger than b\n"
     ],
     "output_type": "stream"
    }
   ],
   "source": [
    "#Code here\n",
    "a = 1\n",
    "b = 3\n",
    "\n",
    "if a >= b:\n",
    "    print(\"a is bigger than b\")\n",
    "else:\n",
    "    print(\"a is not bigger than b\")\n"
   ]
  },
  {
   "cell_type": "markdown",
   "metadata": {},
   "source": [
    "**4)** Verify if one value is multiple of another"
   ]
  },
  {
   "cell_type": "code",
   "execution_count": 425,
   "metadata": {
    "pycharm": {
     "is_executing": false
    }
   },
   "outputs": [
    {
     "name": "stdout",
     "text": [
      "b is multiple of a\n"
     ],
     "output_type": "stream"
    }
   ],
   "source": [
    "#Code here\n",
    "a = 2\n",
    "b = 4\n",
    "\n",
    "if int(a%b):\n",
    "    print(\"b is multiple of a\")\n",
    "elif int(b%a):\n",
    "    print(\"a is multiple of b\")"
   ]
  },
  {
   "cell_type": "markdown",
   "metadata": {},
   "source": [
    "**5)** Calculate the interest earn by an investor that \n",
    "invested a capital of 200 during 3 years with an interest rate of 3%. \n",
    "(I= P\\*R\\*T)\n"
   ]
  },
  {
   "cell_type": "code",
   "execution_count": 426,
   "metadata": {
    "pycharm": {
     "is_executing": false
    }
   },
   "outputs": [
    {
     "data": {
      "text/plain": "18.0"
     },
     "metadata": {},
     "output_type": "execute_result",
     "execution_count": 426
    }
   ],
   "source": [
    "#Code here\n",
    "R = 0.03\n",
    "P = 200\n",
    "T = 3\n",
    "\n",
    "R*P*T"
   ]
  },
  {
   "cell_type": "markdown",
   "metadata": {},
   "source": [
    "**6)** Capital that an investor obtained after \n",
    "investing a capital of 200 during 3 years with an interest rate of 3%. (Compound interest)"
   ]
  },
  {
   "cell_type": "code",
   "execution_count": 427,
   "metadata": {
    "pycharm": {
     "is_executing": false
    }
   },
   "outputs": [
    {
     "data": {
      "text/plain": "218.5454"
     },
     "metadata": {},
     "output_type": "execute_result",
     "execution_count": 427
    }
   ],
   "source": [
    "#Code here\n",
    "P*(1+R)**T"
   ]
  },
  {
   "cell_type": "markdown",
   "metadata": {},
   "source": [
    "**7)** Calculate your BMI (Body Mass Index)  \n",
    "   \n",
    "$BMI = mass (kg)/height^2 (m)$"
   ]
  },
  {
   "cell_type": "code",
   "execution_count": 428,
   "metadata": {
    "pycharm": {
     "is_executing": false
    }
   },
   "outputs": [
    {
     "name": "stdout",
     "text": [
      "you're in the overweight range\n"
     ],
     "output_type": "stream"
    }
   ],
   "source": [
    "#Code here\n",
    "kg = 90\n",
    "cm = 185\n",
    "\n",
    "m = cm/100\n",
    "\n",
    "bmi = kg/(m**2)\n",
    "\n",
    "if bmi < 18.5:\n",
    "    print(\"you're in the underweight range\")\n",
    "elif 18.5 <= bmi < 24.9:\n",
    "    print(\"you're in the healthy weight range\")\n",
    "elif 25 <= bmi < 29.9:\n",
    "    print(\"you're in the overweight range\")\n",
    "elif 30 <= bmi < 39.9:\n",
    "    print(\"you're in the obese range\")\n",
    "\n",
    "    \n"
   ]
  },
  {
   "cell_type": "markdown",
   "metadata": {},
   "source": [
    "**8)** Calcule the Golden ration:   \n",
    "    \n",
    "$gr=(1+\\sqrt{5})/2$\n",
    "\n",
    "1. Solve the problem without using libraries\n",
    "2. Use module math (import math) and function sqr (math.sqrt)"
   ]
  },
  {
   "cell_type": "code",
   "execution_count": 429,
   "metadata": {
    "pycharm": {
     "is_executing": false
    }
   },
   "outputs": [],
   "source": [
    "#Code here"
   ]
  },
  {
   "cell_type": "markdown",
   "metadata": {},
   "source": [
    "**9)** Calculete the NPV (Net present value) of an investment, considering an initial investment of 10000, the following Cashflows 2000,3000, 4000, 4000 and 5000 and a discount rate of 10%.\n",
    "\n",
    "$NPV = \\sum_{t=1}^{n}\\frac{FV_{t}}{(1 + k)^{t}} – I$\n",
    "\n",
    "Where:\n",
    "\n",
    "FV = Future cost of the cash inflows,\n",
    "I = Initial Investment\n",
    "k = Discount rate equal to the owner’s cost of capital\n"
   ]
  },
  {
   "cell_type": "code",
   "execution_count": 430,
   "metadata": {
    "pycharm": {
     "is_executing": false
    }
   },
   "outputs": [],
   "source": [
    "#Code here"
   ]
  },
  {
   "cell_type": "markdown",
   "metadata": {},
   "source": [
    "**10)** Ask the user to insert name and age. Calculate the the birth. Print a result saying the 'this person was born in'\n",
    "1. Solve the problem without using modules and libraries\n",
    "2. Solve the problem using the date library from module datetime, as fallow:\n",
    "   \n",
    "```python\n",
    "from datetime import date   \n",
    "today = date.today()   \n",
    "today.year   \n",
    "```"
   ]
  },
  {
   "cell_type": "code",
   "execution_count": 431,
   "metadata": {
    "pycharm": {
     "is_executing": false
    }
   },
   "outputs": [],
   "source": [
    "#Code here"
   ]
  },
  {
   "cell_type": "markdown",
   "metadata": {},
   "source": [
    "**11)** Ask the user to insert forenames, surnames. create a new variable (name) with your complete name.\n",
    "   \n",
    "Create the follwoing variables:   \n",
    "   \n",
    "**nameBig**, where all the characters of the name are capitalized   \n",
    "**nameTitle**, where the only the first character of each name (word) is capitalized   \n",
    "**nameSmall**, where all the characters of the name are lower   \n",
    "**nameCapitalized**, where only the first charater of the first name is capitalized   "
   ]
  },
  {
   "cell_type": "code",
   "execution_count": 432,
   "metadata": {
    "pycharm": {
     "is_executing": false
    }
   },
   "outputs": [],
   "source": [
    "#Code here"
   ]
  },
  {
   "cell_type": "markdown",
   "metadata": {},
   "source": [
    "**12)** Supopose thata your name is stored in the variable name. Use the follwoing method to show where in which carater appears the firs \"da\". \n",
    "   \n",
    "```python\n",
    "str.find(sub,start,end)\n",
    "str - variable to be abalysed\n",
    "sub - expression to find in the variable str\n",
    "start and end are optional values corresponding to the beginning and end position to search.\n",
    "```\n",
    "   \n",
    "What happens if does not find?\n"
   ]
  },
  {
   "cell_type": "code",
   "execution_count": 433,
   "metadata": {
    "pycharm": {
     "is_executing": false
    }
   },
   "outputs": [],
   "source": [
    "#Code here"
   ]
  }
 ],
 "metadata": {
  "kernelspec": {
   "display_name": "Python 3",
   "language": "python",
   "name": "python3"
  },
  "language_info": {
   "codemirror_mode": {
    "name": "ipython",
    "version": 3
   },
   "file_extension": ".py",
   "mimetype": "text/x-python",
   "name": "python",
   "nbconvert_exporter": "python",
   "pygments_lexer": "ipython3",
   "version": "3.7.0"
  },
  "pycharm": {
   "stem_cell": {
    "cell_type": "raw",
    "source": [],
    "metadata": {
     "collapsed": false
    }
   }
  }
 },
 "nbformat": 4,
 "nbformat_minor": 2
}